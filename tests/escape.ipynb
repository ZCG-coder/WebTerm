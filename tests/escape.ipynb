{
 "cells": [
  {
   "cell_type": "code",
   "execution_count": 33,
   "metadata": {},
   "outputs": [],
   "source": [
    "import re\n",
    "from typing import *\n",
    "\n",
    "ESCAPE = \"\\x1b[1;2mHello world\\x1b[0m\\n\\x1b[1;2mHello world\"\n",
    "SEQ = re.compile('\\x1b\\[((?:\\d|;)*)([a-zA-Z])', re.MULTILINE)"
   ]
  },
  {
   "cell_type": "code",
   "execution_count": 34,
   "metadata": {},
   "outputs": [],
   "source": [
    "def finditer_withlineno(\n",
    "    pattern, string, flags: Union[re.RegexFlag, int] = 0\n",
    ") -> Iterable[Tuple[int]]:\n",
    "    \"\"\"\n",
    "    A version of re.finditer that returns '(line_number, column_number)' pairs.\n",
    "    \"\"\"\n",
    "\n",
    "    matches = list(re.finditer(pattern, string, flags))\n",
    "    if not matches:\n",
    "        return []\n",
    "\n",
    "    end = matches[-1].start()\n",
    "    # -1 so a failed 'rfind' maps to the first line.\n",
    "    newline_table = {-1: 0}\n",
    "    for i, m in enumerate(re.finditer(r\"\\n\", string), 1):\n",
    "        # don't find newlines past the last match\n",
    "        offset = m.start()\n",
    "        if offset > end:\n",
    "            break\n",
    "        newline_table[offset] = i\n",
    "\n",
    "    # Failing to find the newline is OK,–1 maps to 0.\n",
    "    for m in matches:\n",
    "        newline_offset = string.rfind(\"\\n\", 0, m.start())\n",
    "        line_number = newline_table[newline_offset]\n",
    "        yield (\n",
    "            (line_number + 1, m.start() - newline_offset - 1),\n",
    "            (line_number + 1, m.end() - newline_offset - 1),\n",
    "        )"
   ]
  },
  {
   "cell_type": "code",
   "execution_count": 39,
   "metadata": {},
   "outputs": [
    {
     "name": "stdout",
     "output_type": "stream",
     "text": [
      "(((1, 0), (1, 6)), ((1, 17), (1, 21)), ((2, 0), (2, 6)))\n"
     ]
    }
   ],
   "source": [
    "res = finditer_withlineno(SEQ, ESCAPE)"
   ]
  }
 ],
 "metadata": {
  "interpreter": {
   "hash": "fa6a9da68b09f556f81ccc4728163a2483ccfebe4bc7874e9266fabe7f57f094"
  },
  "kernelspec": {
   "display_name": "Python 3.10.4 ('terminal-5wrHdAdc-py3.10')",
   "language": "python",
   "name": "python3"
  },
  "language_info": {
   "codemirror_mode": {
    "name": "ipython",
    "version": 3
   },
   "file_extension": ".py",
   "mimetype": "text/x-python",
   "name": "python",
   "nbconvert_exporter": "python",
   "pygments_lexer": "ipython3",
   "version": "3.10.4"
  },
  "orig_nbformat": 4
 },
 "nbformat": 4,
 "nbformat_minor": 2
}
